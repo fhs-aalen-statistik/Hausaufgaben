{
 "cells": [
  {
   "cell_type": "markdown",
   "metadata": {},
   "source": [
    "# Statistik\n",
    "\n",
    "# Hausaufgabe 2.2.2\n",
    "\n",
    "Angenommen unser Datensatz besteht aus allen ganzen Zahlen von 1 bis 10. Wie groß ist der Mittelwert?\n",
    "\n",
    "Versuche diese Rechnung mittels R zu programmieren. Wir werden unterschiedliche R-Befehle probieren, um das gleiche Ergebnis zu erhalten. \n",
    "\n",
    "Der R-Ausdruck `1:3` gibt eine Sequenz von 1 bis 3 aus. Probiere es.  "
   ]
  },
  {
   "cell_type": "code",
   "execution_count": null,
   "metadata": {
    "collapsed": true
   },
   "outputs": [],
   "source": []
  },
  {
   "cell_type": "markdown",
   "metadata": {},
   "source": [
    "Estelle eine Sequenz von 1 bis 10 und weise das Ergebnis einer Variablen *s*."
   ]
  },
  {
   "cell_type": "code",
   "execution_count": null,
   "metadata": {
    "collapsed": true
   },
   "outputs": [],
   "source": []
  },
  {
   "cell_type": "markdown",
   "metadata": {
    "collapsed": true
   },
   "source": [
    "In Hausaufgabe 2.1.1 haben wir die Funktionen *sum()* und *length()* kennengelernt. Zur Erinnerung: \n",
    "\n",
    "*sum()* gibt die Summe aller Werte eines Objekts aus. \n",
    "\n",
    "*length()* gibt die Länge eines Objekts aus.\n",
    "\n",
    "Jetzt berechne den Mittelwert der ersten zehn ganzen Zahlen une speichere das Resultat in einer Variablen *mittel1*"
   ]
  },
  {
   "cell_type": "code",
   "execution_count": null,
   "metadata": {
    "collapsed": true
   },
   "outputs": [],
   "source": []
  },
  {
   "cell_type": "markdown",
   "metadata": {},
   "source": [
    "Die R-Funktion *seq-len(n)* erzeugt eine Sequenz von 1 bis n.\n",
    "\n",
    "Mittels *seq-len()* berechne den Mittelwert der ersten zehn ganzen Zahlen und speichere das Resultat in einer Variablen *mittel2*"
   ]
  },
  {
   "cell_type": "code",
   "execution_count": null,
   "metadata": {
    "collapsed": true
   },
   "outputs": [],
   "source": []
  }
 ],
 "metadata": {
  "kernelspec": {
   "display_name": "R",
   "language": "R",
   "name": "ir"
  },
  "language_info": {
   "codemirror_mode": "r",
   "file_extension": ".r",
   "mimetype": "text/x-r-source",
   "name": "R",
   "pygments_lexer": "r",
   "version": "3.4.1"
  }
 },
 "nbformat": 4,
 "nbformat_minor": 2
}
