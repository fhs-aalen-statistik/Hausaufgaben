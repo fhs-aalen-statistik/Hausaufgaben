{
 "cells": [
  {
   "cell_type": "markdown",
   "metadata": {},
   "source": [
    "# Statistik\n",
    "\n",
    "# Hausaufgabe 2.1.1: \n",
    "\n",
    "Niemand wertet Daten mit einem Taschenrechner aus oder erstellt Grafiken händisch. Deshalb ist es wichtig, dass wir die Bedienung eines Programms lernen, mit dessen Hilfe wir Auswertungen erstellen. Zwar reicht **Excel** aus um einfache statistische Kennzahlen zu berechnen, jedoch stößt es schnell an seine Grenzen. Die Rechnungen werden aufwändig und fehleranfällig, der Übertrag auf neue Datensätze ist kompliziert und die grafischen Darstellungsmög- lichkeiten sind begrenzt. Deshalb wollen wir in Laufe der Vorlesung ein kostenfreies Programm für statistische Analysen lernen. Die Programmiersprache heißt **R**. Wir werden die Benutzeroberfläche **RStudio** und **die Jupyter Notebook für R** benutzen.\n",
    "\n",
    "\n",
    "Erstelle einen Vektor mit folgenden Daten: {1,2,4,5,5,6,2,2,2,4,3,3,6,1,3,1,3,2,5,2,1,2,3,3,4}\n",
    "Die Funktion *combine* `c(...)` kombiniert das, was unter ... steht, zu einem Vektor.\n",
    "Hierbei steht ... für eine Folge von Elementen des gleichen Datentyps.\n",
    "\n",
    "Der folgende Befehl weist die Sequenz {1,2,4,5,5,6,2,2,2,4,3,3,6,1,3,1,3,2,5,2,1,2,3,3,4} der Variablen `rawData`  zu:\n",
    "\n",
    "`rawData =c(1,2,4,5,5,6,2,2,2,4,3,3,6,1,3,1,3,2,5,2,1,2,3,3,4)`\n",
    "\n",
    "Um den Inhalt der Variablen zu sehen, tippe den Variablennamen `rawData` ein oder führe den Befehl `print(rawData)` aus."
   ]
  },
  {
   "cell_type": "code",
   "execution_count": null,
   "metadata": {
    "collapsed": true
   },
   "outputs": [],
   "source": []
  },
  {
   "cell_type": "markdown",
   "metadata": {},
   "source": [
    "Um die Daten zu veranschaulichen erstellen wir zwei Häufigkeitstabellen. \n",
    "\n",
    "Kategoriale Daten entstehen, falls wir ein Merkmal an verschiedenen Personen, Unternehmen, Lebewesen etc. messen und diese Eigenschaft in einer von mehreren Kategorien fällt. In obigen Fall messen wir z.B. die Anzahl an Geschwistern und weisen die Werte folgenden Kategorien zu: 0 Geschwister, 1 Geschwister, 2 Geschwister, 3 Geschwister etc.\n",
    "\n",
    "Der R-Befehl `table(...)` dient der Erstellung einer Häufigkeitsaufzählung.\n",
    "\n",
    "Führe folgende Befehle aus, um eine Tabelle mit den absoluten Häufigkeiten zu erzeugen:\n",
    "`absHauf = table(rawData)`\n",
    "`print(absHauf)`\n"
   ]
  },
  {
   "cell_type": "code",
   "execution_count": null,
   "metadata": {
    "collapsed": true
   },
   "outputs": [],
   "source": []
  },
  {
   "cell_type": "markdown",
   "metadata": {},
   "source": [
    "Wir können die relativen Häufigkeiten errechnen, indem wir die Anzahl an Beobachtungen in jeder Kategorie (wieviele Personen haben n Geschwister) durch die Gesamtzahl der Beobachtungen (wieviele Personen wurden gefragt) dividieren. \n",
    "\n",
    "Die R-Funktion `length()` gibt die Anzahl an Elementen eines Objekts aus. \n",
    "\n",
    "`n = length(rawData)` berechnet die Gesamtzahl an Beobachtungen und speichert das Ergebnis in einer Variablen *n*\n",
    "\n",
    "In R können wir Operationen mit ganzen Vektoren durchführen. Der Befehl \n",
    "\n",
    "`relHauf = absHauf / n` \n",
    "\n",
    "dividiert jedes Element von *absHauf* durch *n* und speichert das Resultat in *relHauf*\n",
    "\n",
    "Führe diese zwei Befehle aus. "
   ]
  },
  {
   "cell_type": "code",
   "execution_count": null,
   "metadata": {
    "collapsed": true
   },
   "outputs": [],
   "source": []
  },
  {
   "cell_type": "markdown",
   "metadata": {},
   "source": [
    "Um Prozentwerte zu erhalten, multiplizieren wir die relativen Häufigkeiten mit 100.\n",
    "\n",
    "`prozente = relHauf * 100`"
   ]
  },
  {
   "cell_type": "code",
   "execution_count": null,
   "metadata": {
    "collapsed": true
   },
   "outputs": [],
   "source": []
  },
  {
   "cell_type": "markdown",
   "metadata": {
    "collapsed": true
   },
   "source": [
    "Die R-Funktion *sum(x)* ergibt als Resultat die Summe der Werte aller Elemente von *x*\n",
    "\n",
    "Die Summe der Werte von *relHauf* sollte 1 ergeben. Überprüfe es. \n",
    "\n",
    "Überprüfe auch die Summe der Werte von *prozente*.\n"
   ]
  },
  {
   "cell_type": "code",
   "execution_count": null,
   "metadata": {
    "collapsed": true
   },
   "outputs": [],
   "source": []
  },
  {
   "cell_type": "markdown",
   "metadata": {
    "collapsed": true
   },
   "source": [
    "Es wäre schön, alle drei Vektoren *absHauf*, *relHauf* und *prozente* zusammen zu haben.\n",
    "\n",
    "Der Befehl *cbind()* (für column bind) fügt die Vektoren spaltenweise zusammen. Das Resultat ergibt eine Matrix.\n",
    "\n",
    "`matrixData = cbind( absHauf, relHauf, prozente)`"
   ]
  },
  {
   "cell_type": "code",
   "execution_count": null,
   "metadata": {
    "collapsed": true
   },
   "outputs": [],
   "source": []
  },
  {
   "cell_type": "markdown",
   "metadata": {},
   "source": [
    "Jetzt werden wir ein Balkendiagramm erstellen. Bei einem Balkendiagramm werden die Kategorien (in diesem Fall die Anzahl an Geschwistern) auf der x-Achse und die absoluten (oder relativen) Häufigkeiten (wieviele Personen haben n Geschwister) auf der y-Achse aufgetragen.\n",
    "\n",
    "Die Funktion `barplot(x,...)` erzeugt ein Balkendiagramm. \n",
    "\n",
    "Führe folgenden Befehl aus:\n",
    "\n",
    "`barplot(absHauf)`\n",
    "\n"
   ]
  },
  {
   "cell_type": "code",
   "execution_count": null,
   "metadata": {
    "collapsed": true
   },
   "outputs": [],
   "source": []
  },
  {
   "cell_type": "markdown",
   "metadata": {},
   "source": [
    "Jetzt mache ein Balkendiagramm für die Variable *relHauf*"
   ]
  },
  {
   "cell_type": "code",
   "execution_count": null,
   "metadata": {
    "collapsed": true
   },
   "outputs": [],
   "source": []
  },
  {
   "cell_type": "markdown",
   "metadata": {},
   "source": [
    "Und für die Variable *prozente*.\n",
    "\n",
    "Vegleiche die drei Balkendiagramme. Was wird auf der y-Achse der verschiedenen Balkendiagramme dargestellt? "
   ]
  },
  {
   "cell_type": "code",
   "execution_count": null,
   "metadata": {
    "collapsed": true
   },
   "outputs": [],
   "source": []
  },
  {
   "cell_type": "markdown",
   "metadata": {},
   "source": [
    "Erstelle einen neuen Vektor mit folgenden Daten : {1,1,1,1,1,2,2,2,3,3,3,3,4,4,5,5,5,5,5,6,6,6,7,7,7,7,8,8,8,9,9,9,9}\n",
    "\n",
    "Nenne den Vektor rawData2."
   ]
  },
  {
   "cell_type": "code",
   "execution_count": null,
   "metadata": {
    "collapsed": true
   },
   "outputs": [],
   "source": []
  },
  {
   "cell_type": "markdown",
   "metadata": {},
   "source": [
    "Erstelle Balkendiagramme für die absolute Häufigkeit, die relative Häufigkeit und die Prozente des neuen Datensatzes.\n",
    "\n",
    "Nenne die Variablen *absHauf2*, *relHauf2*, *prozente2* und *matrixData2*\n"
   ]
  },
  {
   "cell_type": "code",
   "execution_count": null,
   "metadata": {
    "collapsed": true
   },
   "outputs": [],
   "source": []
  },
  {
   "cell_type": "markdown",
   "metadata": {},
   "source": [
    "Wie würde sich das Histogramm ändern, falls wir statt 25 Personen 100 Personen befragt hätten?\n",
    "\n",
    "Der R-Ausdruck `sample(10,100, replace=TRUE)` erstellt einen Vektor mit 100 ganzen Zufallszahlen zwischen 1 und 10. Das Ergebnis wird der Variablen `rawData100` zugewiesen.\n",
    "\n",
    "`rawData100 = sample(10,100, replace=TRUE)`"
   ]
  },
  {
   "cell_type": "code",
   "execution_count": null,
   "metadata": {
    "collapsed": true
   },
   "outputs": [],
   "source": []
  },
  {
   "cell_type": "markdown",
   "metadata": {},
   "source": [
    "Erstelle Balkendiagramme für die absolute Häufigkeit, die relative Häufigkeit und die Prozente von *rawData100*.\n",
    "\n",
    "Nenne die Variablen *absHauf100*, *relHauf100*, *prozente100* und *matrixData100*\n"
   ]
  },
  {
   "cell_type": "code",
   "execution_count": null,
   "metadata": {
    "collapsed": true
   },
   "outputs": [],
   "source": []
  },
  {
   "cell_type": "markdown",
   "metadata": {
    "collapsed": true
   },
   "source": [
    "Mache jetzt dasselbe, aber mit 1000 Daten und mit 10000 Daten. Vergleiche die Balkendiagramme. "
   ]
  },
  {
   "cell_type": "code",
   "execution_count": null,
   "metadata": {
    "collapsed": true
   },
   "outputs": [],
   "source": []
  },
  {
   "cell_type": "markdown",
   "metadata": {},
   "source": [
    "# Kosmetik \n",
    "\n",
    "Mit dem Parameter *main* kann man einen Titel hinzufügen:\n",
    "\n",
    "`main = \"Balkenamm für Zufalszahlen\"`\n",
    "\n",
    "Probiere folgendes:\n",
    "\n",
    "`barplot(absHauf10000, main = \"Balkendiagramm fuer 10000 Werte\")`"
   ]
  },
  {
   "cell_type": "code",
   "execution_count": null,
   "metadata": {
    "collapsed": true
   },
   "outputs": [],
   "source": []
  },
  {
   "cell_type": "markdown",
   "metadata": {},
   "source": [
    "Für die Beschriftung der horizontalen und vertikalen Achsen benutzt man den Parameter *xlab* und *ylab*:\n",
    "\n",
    "`xlab = \"Zeichenkette\"`\n",
    "\n",
    "`ylab = \"Zeichenkette\"` \n",
    "\n",
    "Beschrifte die Achsen des Balkendiagramms für 10000 Daten mit geigneten Titeln.   \n"
   ]
  },
  {
   "cell_type": "code",
   "execution_count": null,
   "metadata": {
    "collapsed": true
   },
   "outputs": [],
   "source": []
  },
  {
   "cell_type": "markdown",
   "metadata": {},
   "source": [
    "# Power-User\n",
    "\n",
    "Wir können auch die Bibliothek gglot benutzen.\n",
    "\n",
    "Erstelle einen dataframe:\n",
    "\n",
    "`df = data.frame(y = data.raw)`"
   ]
  },
  {
   "cell_type": "code",
   "execution_count": null,
   "metadata": {
    "collapsed": true
   },
   "outputs": [],
   "source": []
  },
  {
   "cell_type": "markdown",
   "metadata": {},
   "source": [
    "Wir werden die Bibliothek ggplot benutzen. \n",
    "\n",
    "`intall.packages(pkgs)` dient zur Installation von Packages, deren Zeichnenketten dem Argument *pkgs* übergeben werden.\n",
    "\n",
    "Installiere zuerst die Bibliothek:\n",
    "\n",
    "`install.packages(\"ggplot2\")`\n",
    "\n",
    "`library(package)` lädt einen installierten Package mit einer Zeichnenkette bei *package*.\n",
    "\n",
    "Lade die Bibliothek:\n",
    "\n",
    "`library ( ggplot2 )`"
   ]
  },
  {
   "cell_type": "code",
   "execution_count": null,
   "metadata": {
    "collapsed": true
   },
   "outputs": [],
   "source": []
  },
  {
   "cell_type": "markdown",
   "metadata": {},
   "source": [
    "Plotte das Histogramm :\n",
    "Wir schreiben \"x=y\", da wir das Feld df$y darstellen wollen.\n",
    "\n",
    "`ggplot(data = df, aes(x = y) ) +\n",
    " geom_histogram ( ) +\n",
    " theme_minimal() +\n",
    " labs(x = \"# Verwandte\", y = \"Häufigkeit\")`"
   ]
  },
  {
   "cell_type": "code",
   "execution_count": null,
   "metadata": {
    "collapsed": true
   },
   "outputs": [],
   "source": []
  }
 ],
 "metadata": {
  "kernelspec": {
   "display_name": "R",
   "language": "R",
   "name": "ir"
  },
  "language_info": {
   "codemirror_mode": "r",
   "file_extension": ".r",
   "mimetype": "text/x-r-source",
   "name": "R",
   "pygments_lexer": "r",
   "version": "3.4.1"
  }
 },
 "nbformat": 4,
 "nbformat_minor": 2
}
