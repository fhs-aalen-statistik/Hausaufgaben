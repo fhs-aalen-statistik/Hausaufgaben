{
 "cells": [
  {
   "cell_type": "markdown",
   "metadata": {},
   "source": [
    "# Statistik\n",
    "\n",
    "# Hausaufgabe 2.1.1: Histogramm erstellen\n",
    "\n",
    "Niemand wertet Daten mit einem Taschenrechner aus oder erstellt Grafiken händisch. Deshalb ist es wichtig, dass wir die Bedienung eines Programms lernen, mit dessen Hilfe wir Auswertungen erstellen. Zwar reicht **Excel** aus um einfache sta- tistische Kennzahlen zu berechnen, jedoch stößt es schnell an seine Gren- zen. Die Rechnungen werden aufwändig und fehleranfällig, der Übertrag auf neue Datensätze ist kompliziert und die grafischen Darstellungsmög- lichkeiten sind begrenzt. Deshalb wollen wir in Laufe der Vorlesung ein kostenfreies Programm für statistische Analysen lernen. Die Program- miersprache heißt **R**. Wir werden die Benutzeroberfläche **RStudio** und **die Jupyter Notebook für R** benutzen.\n",
    "\n",
    "Versuche den folgenden Code zu verstehen, welcher Abb. 2.1 erstellt.\n",
    "\n",
    "Erstelle einen Vektor mit folgenden Daten: {1,2,4,5,5,6,2,2,2,4,3,3,6,1,3,1,3,2,5,2,1,2,3,3,4}\n",
    "Die Funktion combine `c(...)` combiniert das, was unter ... steht, zu einem Vektor.\n",
    "\n",
    "... steht für eine Folge von Elementen des gleichen Datentyps.\n",
    "\n",
    "Führe folgenden Befehl aus:\n",
    "\n",
    "`rawData =c(1,2,4,5,5,6,2,2,2,4,3,3,6,1,3,1,3,2,5,2,1,2,3,3,4)`\n",
    "\n",
    "Um zu sehen was die Variable enthält, gib den Variablennamen\n",
    "`rawData`"
   ]
  },
  {
   "cell_type": "code",
   "execution_count": null,
   "metadata": {
    "collapsed": true
   },
   "outputs": [],
   "source": []
  },
  {
   "cell_type": "markdown",
   "metadata": {},
   "source": [
    "Erstelle ein Histogramm:\n",
    "\n",
    "Die Funktion `hist(x,...)` erstellt ein Histogramm für die Werte in der Variablen x. \n",
    "\n",
    "Das Argument *right=FALSE* bewirkt, dass die rechten Klassengrenzen nicht zu den Klassen gehören, d.h. links abgeschlossene Intervalle als Klassen benutzt werden. \n",
    "\n",
    "Führe folgenden Befehl aus:\n",
    "\n",
    "`hist(rawData, right=FALSE)`"
   ]
  },
  {
   "cell_type": "code",
   "execution_count": null,
   "metadata": {
    "collapsed": true
   },
   "outputs": [],
   "source": []
  },
  {
   "cell_type": "markdown",
   "metadata": {},
   "source": [
    "Mit dem Argument *freq* zeigen wir statt die Frequenz, die Prozente (die Summe der Höhen der Balken ergibt 1)\n",
    "\n",
    "`hist(rawData, right=FALSE, freq=FALSE)`"
   ]
  },
  {
   "cell_type": "code",
   "execution_count": null,
   "metadata": {
    "collapsed": true
   },
   "outputs": [],
   "source": []
  },
  {
   "cell_type": "markdown",
   "metadata": {},
   "source": [
    "Ordne den Vektor ein:\n",
    "\n",
    "`ordData = sort(rawData)`\n",
    "\n",
    "Was enthält ordData ?"
   ]
  },
  {
   "cell_type": "code",
   "execution_count": null,
   "metadata": {
    "collapsed": true
   },
   "outputs": [],
   "source": []
  },
  {
   "cell_type": "markdown",
   "metadata": {},
   "source": [
    "Erstelle einen neuen Vektor mit folgenden Daten : {1,1,1,1,1,2,2,2,3,3,3,3,4,4,5,5,5,5,5,6,6,6,7,7,7,7,8,8,8,9,9,9,9}\n",
    "\n",
    "Nenne den Vektor rawData2."
   ]
  },
  {
   "cell_type": "code",
   "execution_count": null,
   "metadata": {
    "collapsed": true
   },
   "outputs": [],
   "source": []
  },
  {
   "cell_type": "markdown",
   "metadata": {},
   "source": [
    "Erstelle ein Histogramm für rawData2."
   ]
  },
  {
   "cell_type": "code",
   "execution_count": null,
   "metadata": {
    "collapsed": true
   },
   "outputs": [],
   "source": []
  },
  {
   "cell_type": "markdown",
   "metadata": {},
   "source": [
    "Wie würde sich das Histogramm ändern, falls wir statt 25 Personen 100 Personen befragt hätten?\n",
    "\n",
    "Der folgende Befehl erstellt einen Vektor mit 100 ganzen Zufallszahlen zwischen 1 und 10.\n",
    "\n",
    "`rawData100 = sample(10,100, replace=TRUE)`"
   ]
  },
  {
   "cell_type": "code",
   "execution_count": null,
   "metadata": {
    "collapsed": true
   },
   "outputs": [],
   "source": []
  },
  {
   "cell_type": "markdown",
   "metadata": {},
   "source": [
    "Erstelle ein Histogramm für rawData100."
   ]
  },
  {
   "cell_type": "code",
   "execution_count": null,
   "metadata": {
    "collapsed": true
   },
   "outputs": [],
   "source": []
  },
  {
   "cell_type": "markdown",
   "metadata": {},
   "source": [
    "Mit den Parametern *main* und *sub* kann man einen Titel und einen Untertitel hinzufügen:\n",
    "\n",
    "`main = \"Histogramm für Zufalszahlen\"`\n",
    "\n",
    "`sub = \"100 Daten\"`\n"
   ]
  },
  {
   "cell_type": "code",
   "execution_count": null,
   "metadata": {
    "collapsed": true
   },
   "outputs": [],
   "source": []
  },
  {
   "cell_type": "markdown",
   "metadata": {},
   "source": [
    "Für die Beschriftung der horizontalen und vertikalen Achsen benutzt man die Parameter *xlab* und *ylab*:\n",
    "\n",
    "`xlab = \"Zeichenkette\"`\n",
    "\n",
    "`ylab = \"Zeichenkette\"` \n"
   ]
  },
  {
   "cell_type": "code",
   "execution_count": null,
   "metadata": {
    "collapsed": true
   },
   "outputs": [],
   "source": []
  },
  {
   "cell_type": "markdown",
   "metadata": {},
   "source": [
    "Das Argument *breaks* definiert hier die Anzahl der Sälen."
   ]
  },
  {
   "cell_type": "markdown",
   "metadata": {
    "collapsed": true
   },
   "source": [
    "Erstelle ein Histogramm für rawData100 mit 4 Säulen. (breaks=3)"
   ]
  },
  {
   "cell_type": "code",
   "execution_count": null,
   "metadata": {
    "collapsed": true
   },
   "outputs": [],
   "source": []
  },
  {
   "cell_type": "markdown",
   "metadata": {},
   "source": [
    "Wir können auch die Bibliothek ggplot benutzen.\n",
    "Erstelle ein dataframe:\n",
    "\n",
    "`df = data.frame(y = data.raw)`"
   ]
  },
  {
   "cell_type": "code",
   "execution_count": null,
   "metadata": {
    "collapsed": true
   },
   "outputs": [],
   "source": []
  },
  {
   "cell_type": "markdown",
   "metadata": {},
   "source": [
    "Wir werden die Bibliothek ggplot benutzen. \n",
    "\n",
    "`intall.packages(pkgs)` dient zur Installation von Packages, deren Zeichnenketten dem Argument *pkgs* übergeben werden.\n",
    "\n",
    "Installiere zuerst die Bibliothek:\n",
    "\n",
    "`install.packages(\"ggplot2\")`\n",
    "\n",
    "`library(package)` lädt einen installierten Package mit einer Zeichnenkette bei *package*.\n",
    "\n",
    "Lade die Bibliothek:\n",
    "\n",
    "`library ( ggplot2 )`"
   ]
  },
  {
   "cell_type": "code",
   "execution_count": null,
   "metadata": {
    "collapsed": true
   },
   "outputs": [],
   "source": []
  },
  {
   "cell_type": "markdown",
   "metadata": {},
   "source": [
    "Plotte das Histogramm :\n",
    "Wir schreiben \"x=y\", da wir das Feld df$y darstellen wollen.\n",
    "\n",
    "`ggplot(data = df, aes(x = y) ) +\n",
    " geom_histogram ( ) +\n",
    " theme_minimal() +\n",
    " labs(x = \"# Verwandte\", y = \"Häufigkeit\")`"
   ]
  },
  {
   "cell_type": "code",
   "execution_count": null,
   "metadata": {
    "collapsed": true
   },
   "outputs": [],
   "source": []
  }
 ],
 "metadata": {
  "kernelspec": {
   "display_name": "R",
   "language": "R",
   "name": "ir"
  },
  "language_info": {
   "codemirror_mode": "r",
   "file_extension": ".r",
   "mimetype": "text/x-r-source",
   "name": "R",
   "pygments_lexer": "r",
   "version": "3.4.1"
  }
 },
 "nbformat": 4,
 "nbformat_minor": 2
}
