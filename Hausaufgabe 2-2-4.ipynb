{
 "cells": [
  {
   "cell_type": "markdown",
   "metadata": {},
   "source": [
    "# Statistik\n",
    "\n",
    "# Hausaufgabe 2.2.4\n",
    "\n",
    "Wir haben eine faire Münze und bezeichnen Kopf mit -1 und Zahl mit +1.\n",
    "\n",
    "Angenommen, wir werfen die Münze n-Mal und speichern das Ergebniss in einem Vektor *trials*\n",
    "\n",
    "Berechne den Mittelwert des n-maligen Wurfs und speichere das Resultat in *mittel*.\n",
    "\n",
    "Zum Beispiel:\n",
    "\n",
    "`trials = c(-1,1,-1,-1,-1,1)`\n",
    "\n",
    "`mittel = ....`\n"
   ]
  },
  {
   "cell_type": "code",
   "execution_count": null,
   "metadata": {
    "collapsed": true
   },
   "outputs": [],
   "source": []
  },
  {
   "cell_type": "markdown",
   "metadata": {
    "collapsed": true
   },
   "source": [
    "Wir werden die Würfe einer fairen Münze simulieren.\n",
    "\n",
    "Zuerst speichern wir in einer Variablen *n* die Anzahl an Würfen. Zum Beispiel für 3 Würfe:\n",
    "\n",
    "`n = 3`\n",
    "\n",
    "Dannach erzeugen wir einen Vektor *trials* mit dem Ergebniss von n Würfen. \n",
    "\n",
    "Die R-Funktion *sample(x, n, replace = TRUE, prob = w)* gibt einen Vektor von n Elementen aus, die zufällig von dem Vektor x gezogen wurden. In unserem Fall enthält x den Wert -1 (für Kopf) und den Wert 1 (für Zahl). \n",
    "\n",
    "Der Vektor *w* gibt die Wahrscheinlichkeit jedes Element von x gewählt zu werden. Da unsere Münze fair ist, haben -1 und 1 dieselbe Wahrscheinlichkeit von 0.5.\n",
    "\n",
    "`trials = sample(c(-1,1),n,replace=TRUE,prob=c(0.5,0.5))`\n",
    "\n",
    "Dannach kommt Deine Berechnung von der Variablen *mittel*.\n",
    "\n",
    "`mittel = ... `\n",
    "\n",
    "\n",
    "Wir werden jetzt das Experiment für verschiedene n Werte wiederholen. "
   ]
  },
  {
   "cell_type": "code",
   "execution_count": null,
   "metadata": {
    "collapsed": true
   },
   "outputs": [],
   "source": [
    "# Code für 1-Mal . Führe diesen Code mehrmals.\n",
    "\n",
    "n = 1\n",
    "print(n)\n",
    "trials = sample(c(-1,1),n,replace=TRUE,prob=c(0.5,0.5)) \n",
    "print(head(trials)) # Der Befehl head(trials) zeigt die ersten Elemente von trials an\n",
    "mittel =  # hier kommt Deine Berechnung\n",
    "print(mittel)"
   ]
  },
  {
   "cell_type": "markdown",
   "metadata": {},
   "source": [
    "Mache dasselbe für n=10, n=100, n=1000 und n=10000"
   ]
  },
  {
   "cell_type": "code",
   "execution_count": null,
   "metadata": {
    "collapsed": true
   },
   "outputs": [],
   "source": [
    "# Code für 10-Mal"
   ]
  },
  {
   "cell_type": "code",
   "execution_count": null,
   "metadata": {
    "collapsed": true
   },
   "outputs": [],
   "source": [
    "# Code für 100-Mal"
   ]
  },
  {
   "cell_type": "code",
   "execution_count": null,
   "metadata": {
    "collapsed": true
   },
   "outputs": [],
   "source": [
    "# Code für 1000-Mal"
   ]
  },
  {
   "cell_type": "code",
   "execution_count": null,
   "metadata": {
    "collapsed": true
   },
   "outputs": [],
   "source": [
    "# Code für 10000-Mal"
   ]
  },
  {
   "cell_type": "markdown",
   "metadata": {},
   "source": [
    "# Power-user\n",
    "\n",
    "Wie wäre es, wenn unsere Münze nicht fair wäre...\n",
    "\n",
    "Verändere den obigen Code so, dass die Wahrscheinlichkeit Kopf zu kriegen doppelt so groß ist als die Wahrscheinlichkeit Zahl zu kriegen."
   ]
  },
  {
   "cell_type": "code",
   "execution_count": null,
   "metadata": {
    "collapsed": true
   },
   "outputs": [],
   "source": []
  }
 ],
 "metadata": {
  "kernelspec": {
   "display_name": "R",
   "language": "R",
   "name": "ir"
  },
  "language_info": {
   "codemirror_mode": "r",
   "file_extension": ".r",
   "mimetype": "text/x-r-source",
   "name": "R",
   "pygments_lexer": "r",
   "version": "3.4.1"
  }
 },
 "nbformat": 4,
 "nbformat_minor": 2
}
