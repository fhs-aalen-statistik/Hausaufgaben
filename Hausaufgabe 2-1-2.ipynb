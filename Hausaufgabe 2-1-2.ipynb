{
 "cells": [
  {
   "cell_type": "code",
   "execution_count": null,
   "metadata": {
    "collapsed": true
   },
   "outputs": [],
   "source": []
  },
  {
   "cell_type": "markdown",
   "metadata": {},
   "source": [
    "# Hausaufgabe 2.1.2\n",
    "\n",
    "## Histogramme, Balkendiagramme und Kreisdiagramme\n",
    "\n",
    "Kurs 1.03 der “Basic Statistics” Vorlesung beschreibt, wann Balkendiagramme bzw. Kreisdiagramme sinnvoll sind. Schaue dir das Video an.\n",
    "\n",
    "Definiere einen Vektor *laender* mit folgenden Daten {\"Europe\", \"North America\", \"South America\", \"Africa\", \"Asia\"}"
   ]
  },
  {
   "cell_type": "code",
   "execution_count": null,
   "metadata": {
    "collapsed": true
   },
   "outputs": [],
   "source": []
  },
  {
   "cell_type": "markdown",
   "metadata": {},
   "source": [
    "Erstelle einen Vektor *spieler* mit der Anzahl an Spielern pro Land {280, 16, 56, 32, 16}"
   ]
  },
  {
   "cell_type": "code",
   "execution_count": null,
   "metadata": {
    "collapsed": true
   },
   "outputs": [],
   "source": []
  },
  {
   "cell_type": "markdown",
   "metadata": {
    "collapsed": true
   },
   "source": [
    "Jetzt werden wir die Elemente des Vektors *spieler* beschriften. Die Funktion *names()* bennent die Elemente eines Objekts, z.B. eines Vektors.\n",
    "\n",
    "`spieler`\n",
    "\n",
    "`names(spieler) = laender`\n",
    "\n",
    "`spieler`\n"
   ]
  },
  {
   "cell_type": "code",
   "execution_count": null,
   "metadata": {
    "collapsed": true
   },
   "outputs": [],
   "source": []
  },
  {
   "cell_type": "markdown",
   "metadata": {},
   "source": [
    "Berechne die Anzahl an Spielern und weise diesen Wert einer Variablen *nSpieler* zu."
   ]
  },
  {
   "cell_type": "code",
   "execution_count": null,
   "metadata": {
    "collapsed": true
   },
   "outputs": [],
   "source": []
  },
  {
   "cell_type": "markdown",
   "metadata": {},
   "source": [
    "Berechne die Prozente der Spieler pro Land und speichere das Ergebnis in einem Vektor *prozente*"
   ]
  },
  {
   "cell_type": "code",
   "execution_count": null,
   "metadata": {
    "collapsed": true
   },
   "outputs": [],
   "source": []
  },
  {
   "cell_type": "markdown",
   "metadata": {
    "collapsed": true
   },
   "source": [
    "Erstelle ein Balkendiagramm für die Anzahl an Spielern pro Land. Füge einen Titel und Beschriftungen für die Achsen zu."
   ]
  },
  {
   "cell_type": "code",
   "execution_count": null,
   "metadata": {
    "collapsed": true
   },
   "outputs": [],
   "source": []
  },
  {
   "cell_type": "markdown",
   "metadata": {
    "collapsed": true
   },
   "source": [
    "Jetzt werden wir ein Kreisdiagramm erstellen. In einem Kreisdiagramm werden die Daten in Kreisform dargestellt. \n",
    "Die Kategorieanteile (in diesem Fall die Anzahl an Spielern pro Land) werden durch Kreissegmente abgebildet. \n",
    "Die Flächen eines Kreissdiagramms sind proportional zu den relativen Häufigkeiten (bzw. Prozenten).\n",
    "\n",
    "Führe den folgenden Befehl aus, um ein Kreisdiagramm zu erstellen:\n",
    "\n",
    "pie(spieler)"
   ]
  },
  {
   "cell_type": "code",
   "execution_count": null,
   "metadata": {
    "collapsed": true
   },
   "outputs": [],
   "source": []
  },
  {
   "cell_type": "markdown",
   "metadata": {},
   "source": [
    "Erstelle einen Vektor *deutscheSpieler* mit den Namen der Spieler {\"Oezil\", \"Neuer\", \"Mueller\", \"Kroos\", \"Reus\", \"Sweinsteiger\", \"Sane\", \"Goetze\", \"Hummels\", \"Kimmich\", \"Gomez\", \"Draxler\"}"
   ]
  },
  {
   "cell_type": "code",
   "execution_count": null,
   "metadata": {
    "collapsed": true
   },
   "outputs": [],
   "source": []
  },
  {
   "cell_type": "markdown",
   "metadata": {},
   "source": [
    "Erstelle einen anderen Vektor *groesse* mit der Größe der Spieler\n",
    "{183 , 193, 186, 183, 180, 183, 184, 176, 191, 176, 189, 187 }"
   ]
  },
  {
   "cell_type": "code",
   "execution_count": null,
   "metadata": {
    "collapsed": true
   },
   "outputs": [],
   "source": []
  },
  {
   "cell_type": "markdown",
   "metadata": {},
   "source": [
    "Benenne die Elemente von *groesse* mit den Vektor *deutscheSpieler*"
   ]
  },
  {
   "cell_type": "code",
   "execution_count": null,
   "metadata": {
    "collapsed": true
   },
   "outputs": [],
   "source": []
  },
  {
   "cell_type": "markdown",
   "metadata": {
    "collapsed": true
   },
   "source": [
    "Erstelle ein Balkendiagramm für *groesse*"
   ]
  },
  {
   "cell_type": "code",
   "execution_count": null,
   "metadata": {
    "collapsed": true
   },
   "outputs": [],
   "source": []
  },
  {
   "cell_type": "markdown",
   "metadata": {},
   "source": [
    "Du kannst sehen, dass das Balkendiagramm in diesem Fall nicht besonders nützlich ist. Wir bekommen einen Balken für jeden Spieler. Es wäre nützlicher, wenn wir die Spieler Gruppen zuordnen könnten. Dafür können wir selbst den Spielern Kategorien zuweisen oder ein Histogramm benutzen. \n",
    "\n",
    "Wir werden ein Histogramm für die Größe der Spieler erstellen. Führe folgenden Befehl aus:\n",
    "\n",
    "`hist(groesse)`\n"
   ]
  },
  {
   "cell_type": "code",
   "execution_count": null,
   "metadata": {
    "collapsed": true
   },
   "outputs": [],
   "source": []
  },
  {
   "cell_type": "markdown",
   "metadata": {},
   "source": [
    "R hat die Spieler in vier Kategorien klassifiziert. \n",
    "\n",
    "Die Auswahl der Klassenanzahl sowie die Klassengrenzen kann man R überlassen oder selbst treffen.\n",
    "\n",
    "Wenn wir die Grenzen selbst feststellen möchten, können wir den Parameter *breaks = v* benutzen, wo v ein Vektor mit den Grenzen darstellt. \n",
    "\n",
    "\n",
    "`hist (groesse, breaks=c(175,180,185,190,195))`"
   ]
  },
  {
   "cell_type": "code",
   "execution_count": null,
   "metadata": {
    "collapsed": true
   },
   "outputs": [],
   "source": []
  },
  {
   "cell_type": "markdown",
   "metadata": {},
   "source": [
    "Hat das Balkendiagramm eine besondere Form? \n",
    "Füge Daten von fünf anderen Spielern hinzu und prüfe, ob das neue Histogramm dieselbe Form hat. (Gehe auf google.de und suche nach \"Deutschland Fußballspieler\")"
   ]
  },
  {
   "cell_type": "code",
   "execution_count": null,
   "metadata": {
    "collapsed": true
   },
   "outputs": [],
   "source": []
  }
 ],
 "metadata": {
  "kernelspec": {
   "display_name": "R",
   "language": "R",
   "name": "ir"
  },
  "language_info": {
   "codemirror_mode": "r",
   "file_extension": ".r",
   "mimetype": "text/x-r-source",
   "name": "R",
   "pygments_lexer": "r",
   "version": "3.4.1"
  }
 },
 "nbformat": 4,
 "nbformat_minor": 2
}
