{
 "cells": [
  {
   "cell_type": "markdown",
   "metadata": {},
   "source": [
    "# Statistik\n",
    "\n",
    "# Hausaufgabe 2.1.5\n",
    "\n",
    "Der folfende Datensatz {22, 53, 49, 35, 72, 45, 17, 31, 63, 62, 23, 57, 62, 39, 45, 52, 27, 33, 65, 12} beschreibt das Alter von 20 befragten Personen.\n",
    "\n",
    "Erstelle einen Vektor *rawData* mit dem obigen Datensatz\n"
   ]
  },
  {
   "cell_type": "code",
   "execution_count": null,
   "metadata": {
    "collapsed": true
   },
   "outputs": [],
   "source": []
  },
  {
   "cell_type": "markdown",
   "metadata": {},
   "source": [
    "Wir werden die befragten Personen in 3 Gruppen einteilen:\n",
    "\n",
    "jung: alter < 26\n",
    "\n",
    "mittel: 26 <= alter < 56\n",
    "\n",
    "alt: alter >= 56\n",
    "\n",
    "Was ergibt das Ausführen des Befehls `rawData < 26` ?"
   ]
  },
  {
   "cell_type": "code",
   "execution_count": null,
   "metadata": {
    "collapsed": true
   },
   "outputs": [],
   "source": []
  },
  {
   "cell_type": "code",
   "execution_count": null,
   "metadata": {
    "collapsed": true
   },
   {
   "cell_type": "markdown",
   "metadata": {},
   "source": [
    "Wie wir in Hausaufgabe 2.1.2 gesehen haben, können wir Operationen mit Vektoren durchführen.\n",
    "\n",
    "Der Befehl `rawData < 26` testet für jedes Element *x* des Vektors, ob *x* die Bedingung \"x < 26\" erfüllt.\n",
    "\n",
    "Die Rückgabe des Tests `rawData < 26` ist ein logischer Vektor. \n",
    "\n",
    "Die Elemente eines logischen Vektors können die Werte *TRUE* oder *FALSE* sein. \n",
    "\n",
    "\n",
    "Führe den Befehl `rawData < 26` aus und speichere das Ergebnis in einer Variablen *jung*\n",
    "\n",
    "Wenn wir den Vektor *rawData* mit der Variablen *jung* indizieren, bekommen wir nur diejenigen Werte, die kleiner als 26 sind. \n",
    "\n",
    "Probiere es:\n",
    "\n",
    "`rawData[jung]`"
   ]
  },
  {
   "cell_type": "code",
   "execution_count": null,
   "metadata": {
    "collapsed": true
   },
   "outputs": [],
   "source": []
  },
  {
   "cell_type": "markdown",
   "metadata": {
    "collapsed": true
   },
   "source": [
    "Auf dieselbe Weise erstellen wir einen Vektor *mittel* und *alt*\n",
    "\n",
    "`mittel = rawData <= 56 & 26 <= rawData`\n",
    "\n",
    "Das Element in *mittel* ist \"TRUE\" (=1), falls beide Bedingungen erfüllt sind. Ist mindestens eine Bedingung nicht erfüllt, so ist das Element \"FALSE\" (=0). Das symbol *&* bedeutet *AND*.\n",
    "\n",
    "Mathematisch : Sowohl die Bedingung `26 <= rawData`, als auch die Bedingung \"rawData < 56\" geben jeweils einen logischen Vektor zurück. Die *&* (UND) Verknüpfung multipliziert die Vektoren elementenweise : wir erhalten nur dann eine \"1\" , falls beide Elemente gleich \"1\" (TRUE) sind .\n",
    "\n",
    "\n",
    "Erstelle Du den logischen Vektor *alt*\n"
   ]
  },
  {
   "cell_type": "code",
   "execution_count": null,
   "metadata": {
    "collapsed": true
   },
   "outputs": [],
   "source": []
  },
  {
   "cell_type": "markdown",
   "metadata": {},
   "source": [
    "Mache eine Kopie von *rawData* in einem neuen Vektor *classData*\n",
    "\n",
    "`classData = rawData`\n",
    "\n",
    "Jetzt enthält *classData* dieselben Werte als *rawData*. \n",
    "\n",
    "`classData`"
   ]
  },
  {
   "cell_type": "code",
   "execution_count": null,
   "metadata": {
    "collapsed": true
   },
   "outputs": [],
   "source": []
  },
  {
   "cell_type": "markdown",
   "metadata": {},
   "source": [
    "Führe folgende Befehle aus und schaue Dir die Daten genau an:\n",
    "\n",
    "`classData`\n",
    "\n",
    "`classData[jung]`\n",
    "\n",
    "`classData[mittel]`\n",
    "\n",
    "`classData[alt]`\n",
    "\n"
   ]
  },
  {
   "cell_type": "code",
   "execution_count": null,
   "metadata": {
    "collapsed": true
   },
   "outputs": [],
   "source": []
  },
  {
   "cell_type": "markdown",
   "metadata": {},
   "source": [
    "Wir werden *classData* ändern, so dass der Vektor die Werte  \"jung\", \"mittel\" oder \"alt\" enthält.\n",
    "\n",
    "`classData[jung] = \"jung\"`\n",
    "\n",
    "`classData`\n",
    "\n",
    "Alle Werte in *classData*, die kleiner als 26 waren, wurden mit der Zeichenkette *\"jung\"* ersetzt. Kontrolliere es.\n",
    "\n",
    "Um die Werte zwischen 26 un 56 zu verändern, führe folgende Befehle aus:\n",
    "\n",
    "`classData[mittel] = \"mittel\"`\n",
    "\n",
    "`classData`\n"
   ]
  },
  {
   "cell_type": "code",
   "execution_count": null,
   "metadata": {
    "collapsed": true
   },
   "outputs": [],
   "source": []
  },
  {
   "cell_type": "markdown",
   "metadata": {},
   "source": [
    "Jetzt fehlt es nur die Werte zu verändern, die größer als 56 sind. Versuche es selbst herauszufinden.\n"
   ]
  },
  {
   "cell_type": "code",
   "execution_count": null,
   "metadata": {
    "collapsed": true
   },
   "outputs": [],
   "source": []
  },
  {
   "cell_type": "markdown",
   "metadata": {
    "collapsed": true
   },
   "source": [
    "Jetzt müssen wir die Daten in Gruppen zusammenfügen. Benutze die Funktion *table()* und weise das Resultat einer Variablen *classData* zu.  "
   ]
  },
  {
   "cell_type": "code",
   "execution_count": null,
   "metadata": {
    "collapsed": true
   },
   "outputs": [],
   "source": []
  },
  {
   "cell_type": "markdown",
   "metadata": {
    "collapsed": true
   },
   "source": [
    "Erstelle ein Balkendiagramm für *classData*. Beschrifte die Achsen und füge einen geigneten Titel hinzu. "
   ]
  },
  {
   "cell_type": "code",
   "execution_count": null,
   "metadata": {
    "collapsed": true
   },
   "outputs": [],
   "source": []
  }
 ],
 "metadata": {
  "kernelspec": {
   "display_name": "R",
   "language": "R",
   "name": "ir"
  },
  "language_info": {
   "codemirror_mode": "r",
   "file_extension": ".r",
   "mimetype": "text/x-r-source",
   "name": "R",
   "pygments_lexer": "r",
   "version": "3.4.1"
  }
 },
 "nbformat": 4,
 "nbformat_minor": 2
}
