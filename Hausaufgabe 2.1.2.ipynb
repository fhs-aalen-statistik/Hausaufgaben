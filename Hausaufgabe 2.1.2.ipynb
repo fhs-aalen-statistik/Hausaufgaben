{
 "cells": [
  {
   "cell_type": "markdown",
   "metadata": {},
   "source": [
    "# Hausaufgabe 2.1.2\n",
    "\n",
    "## Histogramme\n",
    "\n",
    "Kurs 1.03 der “Basic Statistics” Vorlesung beschreibt, wann Histrogramme sinnvoll sind. Schaue dir das Video an.\n",
    "\n",
    "Erstelle einen Vektor *countries* mit folgenden daten {\"Europe\", \"North America\", \"South America\", \"Africa\", \"Asia\"}"
   ]
  },
  {
   "cell_type": "code",
   "execution_count": 4,
   "metadata": {},
   "outputs": [
    {
     "data": {
      "text/html": [
       "<ol class=list-inline>\n",
       "\t<li>'Europe'</li>\n",
       "\t<li>'North America'</li>\n",
       "\t<li>'South America'</li>\n",
       "\t<li>'Africa'</li>\n",
       "\t<li>'Asia'</li>\n",
       "</ol>\n"
      ],
      "text/latex": [
       "\\begin{enumerate*}\n",
       "\\item 'Europe'\n",
       "\\item 'North America'\n",
       "\\item 'South America'\n",
       "\\item 'Africa'\n",
       "\\item 'Asia'\n",
       "\\end{enumerate*}\n"
      ],
      "text/markdown": [
       "1. 'Europe'\n",
       "2. 'North America'\n",
       "3. 'South America'\n",
       "4. 'Africa'\n",
       "5. 'Asia'\n",
       "\n",
       "\n"
      ],
      "text/plain": [
       "[1] \"Europe\"        \"North America\" \"South America\" \"Africa\"       \n",
       "[5] \"Asia\"         "
      ]
     },
     "metadata": {},
     "output_type": "display_data"
    }
   ],
   "source": [
    "countries = c(\"Europe\", \"North America\", \"South America\", \"Africa\", \"Asia\")\n",
    "countries"
   ]
  },
  {
   "cell_type": "markdown",
   "metadata": {},
   "source": [
    "Erstelle einen Vektor *players* mit der Anzahl an Spielern pro Land {280, 16, 56, 32, 16}"
   ]
  },
  {
   "cell_type": "code",
   "execution_count": 5,
   "metadata": {},
   "outputs": [
    {
     "ename": "ERROR",
     "evalue": "Error in eval(expr, envir, enclos): object 'sss' not found\n",
     "output_type": "error",
     "traceback": [
      "Error in eval(expr, envir, enclos): object 'sss' not found\nTraceback:\n"
     ]
    }
   ],
   "source": [
    "sss"
   ]
  },
  {
   "cell_type": "code",
   "execution_count": null,
   "metadata": {
    "collapsed": true
   },
   "outputs": [],
   "source": [
    "Mit den folgenden Befehl kannst Du ein Kreisdiagramm erstellen:\n",
    "\n",
    "pie(players, countries)"
   ]
  },
  {
   "cell_type": "code",
   "execution_count": null,
   "metadata": {
    "collapsed": true
   },
   "outputs": [],
   "source": []
  },
  {
   "cell_type": "code",
   "execution_count": null,
   "metadata": {
    "collapsed": true
   },
   "outputs": [],
   "source": [
    "Die Funktion *barplot* erstellt ein Balkendiagramm\n",
    "\n",
    "barplot(players, names.arg = countries)"
   ]
  },
  {
   "cell_type": "markdown",
   "metadata": {},
   "source": [
    "Erstelle einen Vektor *playerName* mit den Namen der Spieler {\"Oezil\", \"Neuer\", \"Mueller\", \"Kroos\", \"Reus\", \"Sweinsteiger\", \"Sane\", \"Goetze\", \"Hummels\", \"Kimmich\", \"Gomez\", \"Draxler\"}\n",
    "\n",
    "Erstelle einen anderen Vektor *playerHeight* mit der Größe der Spieler\n",
    "{183 , 193, 186, 183, 180, 183, 184, 176, 191, 176, 189, 187 }"
   ]
  },
  {
   "cell_type": "code",
   "execution_count": null,
   "metadata": {
    "collapsed": true
   },
   "outputs": [],
   "source": []
  },
  {
   "cell_type": "markdown",
   "metadata": {
    "collapsed": true
   },
   "source": [
    "Erstelle ein Histogramm für die Variable playerHeight"
   ]
  },
  {
   "cell_type": "code",
   "execution_count": null,
   "metadata": {
    "collapsed": true
   },
   "outputs": [],
   "source": []
  }
 ],
 "metadata": {
  "kernelspec": {
   "display_name": "R",
   "language": "R",
   "name": "ir"
  },
  "language_info": {
   "codemirror_mode": "r",
   "file_extension": ".r",
   "mimetype": "text/x-r-source",
   "name": "R",
   "pygments_lexer": "r",
   "version": "3.4.1"
  }
 },
 "nbformat": 4,
 "nbformat_minor": 2
}
